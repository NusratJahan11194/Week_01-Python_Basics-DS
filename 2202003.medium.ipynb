{
 "cells": [
  {
   "cell_type": "markdown",
   "id": "58f3c807",
   "metadata": {},
   "source": [
    "# Python Exercises - Medium Level\n",
    "\n",
    "These exercises test intermediate Python concepts including:\n",
    "- Functions with multiple parameters and return values\n",
    "- List comprehensions\n",
    "- Dictionary operations\n",
    "- Advanced string manipulation\n",
    "- Nested loops and conditionals\n",
    "- Working with multiple data structures\n",
    "\n",
    "**Instructions:** Complete each exercise by writing Python code in the provided cells."
   ]
  },
  {
   "cell_type": "markdown",
   "id": "2eaf75cb",
   "metadata": {},
   "source": [
    "## Question 1: Function with Multiple Return Values\n",
    "\n",
    "Write a function called `analyze_numbers` that:\n",
    "- Takes a list of numbers as input\n",
    "- Returns a tuple containing: (sum, average, maximum, minimum)\n",
    "- Test with the list: [4, 7, 2, 9, 1, 6, 8, 3]"
   ]
  },
  {
   "cell_type": "code",
   "execution_count": 1,
   "id": "beb2582b",
   "metadata": {},
   "outputs": [
    {
     "name": "stdout",
     "output_type": "stream",
     "text": [
      "Total: 40\n",
      "Average: 5.0\n",
      "Maximum: 9\n",
      "Minimum: 1\n"
     ]
    }
   ],
   "source": [
    "def analyze_numbers(numbers):\n",
    "    total = sum(numbers)\n",
    "    avaerage = total/ len(numbers)\n",
    "    maximum = max(numbers)\n",
    "    minimum = min(numbers)\n",
    "    return total, avaerage, maximum, minimum\n",
    "list = [4,7,2,9,1,6,8,3]\n",
    "result = analyze_numbers(list)\n",
    "print(\"Total:\", result[0])\n",
    "print(\"Average:\", result[1])\n",
    "print(\"Maximum:\", result[2])\n",
    "print(\"Minimum:\", result[3])        "
   ]
  },
  {
   "cell_type": "markdown",
   "id": "32aa97ad",
   "metadata": {},
   "source": [
    "## Question 2: List Comprehension Challenge\n",
    "\n",
    "Given the list `numbers = [1, 2, 3, 4, 5, 6, 7, 8, 9, 10]`, create the following using list comprehensions:\n",
    "- A list of squares of all even numbers\n",
    "- A list of numbers divisible by 3\n",
    "- A list of strings saying \"[number] is odd\" for odd numbers only"
   ]
  },
  {
   "cell_type": "code",
   "execution_count": 2,
   "id": "8745c171",
   "metadata": {},
   "outputs": [
    {
     "name": "stdout",
     "output_type": "stream",
     "text": [
      "{64, 100, 4, 36, 16}\n",
      "{9, 3, 6}\n",
      "{'5 is odd', '9 is odd', '1 is odd', '3 is odd', '7 is odd'}\n"
     ]
    }
   ],
   "source": [
    "numbers = [1, 2, 3, 4, 5, 6, 7, 8, 9, 10]\n",
    "squared_numbers = {num**2 for num in numbers if num % 2 == 0}\n",
    "print(squared_numbers)\n",
    "numbers_of_three = {num for num in numbers if num %3==0}\n",
    "print(numbers_of_three)\n",
    "odd = {f\"{num} is odd\"for num in numbers if num%2 != 0}\n",
    "print(odd)"
   ]
  },
  {
   "cell_type": "markdown",
   "id": "e21948e9",
   "metadata": {},
   "source": [
    "## Question 3: Dictionary Operations\n",
    "\n",
    "Create a dictionary called `student_grades` with the following data:\n",
    "- \"Alice\": [85, 90, 78, 92]\n",
    "- \"Bob\": [76, 88, 81, 79]\n",
    "- \"Charlie\": [92, 95, 87, 91]\n",
    "\n",
    "Write a function that:\n",
    "- Calculates the average grade for each student\n",
    "- Returns a new dictionary with student names as keys and average grades as values\n",
    "- Finds and prints the student with the highest average"
   ]
  },
  {
   "cell_type": "code",
   "execution_count": 16,
   "id": "b1f8c090",
   "metadata": {},
   "outputs": [
    {
     "name": "stdout",
     "output_type": "stream",
     "text": [
      "Average Grades: {'Alice': 86.25, 'Bob': 81.0, 'Charlie': 91.25}\n",
      "Top Student: Charlie\n",
      "Top Student's Grade: 91.25\n"
     ]
    }
   ],
   "source": [
    "student_grades = {\n",
    "    \"Alice\" : [85, 90, 78, 92],\n",
    "    \"Bob\" : [76, 88, 81, 79],\n",
    "    \"Charlie\": [92, 95, 87, 91]\n",
    "}\n",
    "def calculate_average_grades(grades):\n",
    "    return {student: sum(scores) / len(scores) for student, scores in grades.items()}\n",
    "\n",
    "print(\"Average Grades:\", calculate_average_grades(student_grades))\n",
    "avg = calculate_average_grades(student_grades)\n",
    "top_students = max(avg, key=avg.get)\n",
    "print(\"Top Student:\", top_students)\n",
    "top_student_grade = avg[top_students]\n",
    "print(\"Top Student's Grade:\", top_student_grade)\n",
    "\n"
   ]
  },
  {
   "cell_type": "markdown",
   "id": "34bc3073",
   "metadata": {},
   "source": [
    "## Question 4: String Processing\n",
    "\n",
    "Write a function called `word_frequency` that:\n",
    "- Takes a sentence as input\n",
    "- Returns a dictionary with each word as a key and its frequency as the value\n",
    "- Words should be case-insensitive\n",
    "- Test with: \"The quick brown fox jumps over the lazy dog the dog was lazy\""
   ]
  },
  {
   "cell_type": "code",
   "execution_count": 18,
   "id": "245662f1",
   "metadata": {},
   "outputs": [
    {
     "name": "stdout",
     "output_type": "stream",
     "text": [
      "{'the': 3, 'quick': 1, 'brown': 1, 'fox': 1, 'jumps': 1, 'over': 1, 'lazy': 2, 'dog': 2, 'was': 1}\n"
     ]
    }
   ],
   "source": [
    "def word_frequency(sentence):\n",
    "    sentence = sentence.lower()\n",
    "    words = sentence.split()\n",
    "    freq_dict = {}\n",
    "\n",
    "    for word in words:\n",
    "        if word in freq_dict:\n",
    "            freq_dict[word] += 1\n",
    "        else:\n",
    "            freq_dict[word] = 1\n",
    "    return freq_dict\n",
    "sentence = \"The quick brown fox jumps over the lazy dog the dog was lazy\"\n",
    "result = word_frequency(sentence)\n",
    "\n",
    "print(result)\n",
    "\n"
   ]
  },
  {
   "cell_type": "markdown",
   "id": "fc1dcd37",
   "metadata": {},
   "source": [
    "## Question 5: Nested Loops and Pattern\n",
    "\n",
    "Write a function called `multiplication_table` that:\n",
    "- Takes a number `n` as input\n",
    "- Prints a multiplication table from 1 to n\n",
    "- Format the output nicely with proper alignment\n",
    "- Test with n = 5"
   ]
  },
  {
   "cell_type": "code",
   "execution_count": 1,
   "id": "9305e600",
   "metadata": {},
   "outputs": [
    {
     "name": "stdout",
     "output_type": "stream",
     "text": [
      "       1   2   3   4   5\n",
      "------------------------\n",
      " 1 |   1   2   3   4   5\n",
      " 2 |   2   4   6   8  10\n",
      " 3 |   3   6   9  12  15\n",
      " 4 |   4   8  12  16  20\n",
      " 5 |   5  10  15  20  25\n"
     ]
    }
   ],
   "source": [
    "def multiplication_table(n):\n",
    "    print(\"    \", end=\"\")\n",
    "    for i in range(1, n + 1):\n",
    "        print(f\"{i:4}\", end=\"\")\n",
    "    print(\"\\n\" + \"----\" * (n + 1))\n",
    "    for i in range(1, n + 1):\n",
    "        print(f\"{i:2} |\", end=\"\")\n",
    "        for j in range(1, n + 1):\n",
    "            print(f\"{i*j:4}\", end=\"\")\n",
    "        print()\n",
    "\n",
    "multiplication_table(5)"
   ]
  },
  {
   "cell_type": "markdown",
   "id": "b9ba0917",
   "metadata": {},
   "source": [
    "## Question 6: List Manipulation\n",
    "\n",
    "Write a function called `remove_duplicates` that:\n",
    "- Takes a list as input\n",
    "- Returns a new list with duplicates removed while preserving the original order\n",
    "- Don't use the set() function\n",
    "- Test with: [1, 2, 2, 3, 4, 4, 5, 1, 6]"
   ]
  },
  {
   "cell_type": "code",
   "execution_count": 2,
   "id": "725abfbc",
   "metadata": {},
   "outputs": [
    {
     "name": "stdout",
     "output_type": "stream",
     "text": [
      "[1, 2, 3, 4, 5, 6]\n"
     ]
    }
   ],
   "source": [
    "def remove_duplicates(lst):\n",
    "    result = []\n",
    "    for item in lst:\n",
    "        if item not in result:\n",
    "            result.append(item)\n",
    "    return result\n",
    "\n",
    "print(remove_duplicates([1, 2, 2, 3, 4, 4, 5, 1, 6]))"
   ]
  },
  {
   "cell_type": "markdown",
   "id": "fabb21b6",
   "metadata": {},
   "source": [
    "## Question 7: Advanced String Formatting\n",
    "\n",
    "Given the following data about products:\n",
    "```python\n",
    "products = [\n",
    "    {\"name\": \"Laptop\", \"price\": 999.99, \"quantity\": 5},\n",
    "    {\"name\": \"Mouse\", \"price\": 25.50, \"quantity\": 20},\n",
    "    {\"name\": \"Keyboard\", \"price\": 75.00, \"quantity\": 15}\n",
    "]\n",
    "```\n",
    "\n",
    "Create a formatted report that shows:\n",
    "- Product name\n",
    "- Price\n",
    "- Quantity\n",
    "- Total value (price × quantity, right-aligned, 2 decimal places)"
   ]
  },
  {
   "cell_type": "code",
   "execution_count": 3,
   "id": "cb37822a",
   "metadata": {},
   "outputs": [
    {
     "name": "stdout",
     "output_type": "stream",
     "text": [
      "Product        Price     Quantity      Total Value\n",
      "--------------------------------------------------\n",
      "Laptop         999.99    5                 4999.95\n",
      "Mouse          25.50     20                 510.00\n",
      "Keyboard       75.00     15                1125.00\n"
     ]
    }
   ],
   "source": [
    "products = [\n",
    "    {\"name\": \"Laptop\", \"price\": 999.99, \"quantity\": 5},\n",
    "    {\"name\": \"Mouse\", \"price\": 25.50, \"quantity\": 20},\n",
    "    {\"name\": \"Keyboard\", \"price\": 75.00, \"quantity\": 15}\n",
    "]\n",
    "print(f\"{'Product':<15}{'Price':<10}{'Quantity':<10}{'Total Value':>15}\")\n",
    "print(\"-\" * 50)\n",
    "\n",
    "for p in products:\n",
    "    total = p[\"price\"] * p[\"quantity\"]\n",
    "    print(f\"{p['name']:<15}{p['price']:<10.2f}{p['quantity']:<10}{total:>15.2f}\")\n",
    "\n"
   ]
  },
  {
   "cell_type": "markdown",
   "id": "f2458f23",
   "metadata": {},
   "source": [
    "## Question 8: Function as Parameter\n",
    "\n",
    "Write a function called `apply_operation` that:\n",
    "- Takes a list of numbers and a function as parameters\n",
    "- Applies the function to each number in the list\n",
    "- Returns a new list with the results\n",
    "\n",
    "Then create two simple functions:\n",
    "- `square(x)`: returns x squared\n",
    "- `cube(x)`: returns x cubed\n",
    "\n",
    "Test `apply_operation` with both functions using the list [1, 2, 3, 4, 5]"
   ]
  },
  {
   "cell_type": "code",
   "execution_count": 4,
   "id": "e6694ca2",
   "metadata": {},
   "outputs": [
    {
     "name": "stdout",
     "output_type": "stream",
     "text": [
      "Squares: [1, 4, 9, 16, 25]\n",
      "Cubes: [1, 8, 27, 64, 125]\n"
     ]
    }
   ],
   "source": [
    "def apply_operation(numbers, func):\n",
    "    result = []\n",
    "    for n in numbers:\n",
    "        result.append(func(n))\n",
    "    return result\n",
    "\n",
    "def square(x):\n",
    "    return x ** 2\n",
    "\n",
    "def cube(x):\n",
    "    return x ** 3\n",
    "nums = [1, 2, 3, 4, 5]\n",
    "\n",
    "print(\"Squares:\", apply_operation(nums, square))\n",
    "print(\"Cubes:\", apply_operation(nums, cube))\n"
   ]
  },
  {
   "cell_type": "markdown",
   "id": "501a6617",
   "metadata": {},
   "source": [
    "## Question 9: Data Processing Challenge\n",
    "\n",
    "Given a list of dictionaries representing students:\n",
    "```python\n",
    "students = [\n",
    "    {\"name\": \"Alice\", \"age\": 20, \"major\": \"Computer Science\", \"gpa\": 3.8},\n",
    "    {\"name\": \"Bob\", \"age\": 19, \"major\": \"Mathematics\", \"gpa\": 3.6},\n",
    "    {\"name\": \"Charlie\", \"age\": 21, \"major\": \"Computer Science\", \"gpa\": 3.9},\n",
    "    {\"name\": \"Diana\", \"age\": 20, \"major\": \"Physics\", \"gpa\": 3.7}\n",
    "]\n",
    "```\n",
    "\n",
    "Write functions to:\n",
    "1. Find all students with GPA above 3.7\n",
    "2. Group students by major\n",
    "3. Find the average age of students in each major"
   ]
  },
  {
   "cell_type": "code",
   "execution_count": 5,
   "id": "d30a94a9",
   "metadata": {},
   "outputs": [
    {
     "name": "stdout",
     "output_type": "stream",
     "text": [
      "High GPA (>3.7): [{'name': 'Alice', 'age': 20, 'major': 'Computer Science', 'gpa': 3.8}, {'name': 'Charlie', 'age': 21, 'major': 'Computer Science', 'gpa': 3.9}]\n",
      "Grouped by Major: {'Computer Science': [{'name': 'Alice', 'age': 20, 'major': 'Computer Science', 'gpa': 3.8}, {'name': 'Charlie', 'age': 21, 'major': 'Computer Science', 'gpa': 3.9}], 'Mathematics': [{'name': 'Bob', 'age': 19, 'major': 'Mathematics', 'gpa': 3.6}], 'Physics': [{'name': 'Diana', 'age': 20, 'major': 'Physics', 'gpa': 3.7}]}\n",
      "Average Age by Major: {'Computer Science': 20.5, 'Mathematics': 19.0, 'Physics': 20.0}\n"
     ]
    }
   ],
   "source": [
    "students = [\n",
    "    {\"name\": \"Alice\", \"age\": 20, \"major\": \"Computer Science\", \"gpa\": 3.8},\n",
    "    {\"name\": \"Bob\", \"age\": 19, \"major\": \"Mathematics\", \"gpa\": 3.6},\n",
    "    {\"name\": \"Charlie\", \"age\": 21, \"major\": \"Computer Science\", \"gpa\": 3.9},\n",
    "    {\"name\": \"Diana\", \"age\": 20, \"major\": \"Physics\", \"gpa\": 3.7}\n",
    "]\n",
    "\n",
    "def high_gpa(students):\n",
    "    return [s for s in students if s[\"gpa\"] > 3.7]\n",
    "def group_by_major(students):\n",
    "    grouped = {}\n",
    "    for s in students:\n",
    "        major = s[\"major\"]\n",
    "        if major not in grouped:\n",
    "            grouped[major] = []\n",
    "        grouped[major].append(s)\n",
    "    return grouped\n",
    "def avg_age_by_major(students):\n",
    "    grouped = group_by_major(students)\n",
    "    averages = {}\n",
    "    for major, group in grouped.items():\n",
    "        total_age = sum(s[\"age\"] for s in group)\n",
    "        averages[major] = total_age / len(group)\n",
    "    return averages\n",
    "\n",
    "print(\"High GPA (>3.7):\", high_gpa(students))\n",
    "print(\"Grouped by Major:\", group_by_major(students))\n",
    "print(\"Average Age by Major:\", avg_age_by_major(students))\n"
   ]
  },
  {
   "cell_type": "markdown",
   "id": "58f3fcde",
   "metadata": {},
   "source": [
    "## Question 10: Password Validator\n",
    "\n",
    "Write a function called `validate_password` that checks if a password meets these criteria:\n",
    "- At least 8 characters long\n",
    "- Contains at least one uppercase letter\n",
    "- Contains at least one lowercase letter\n",
    "- Contains at least one digit\n",
    "- Contains at least one special character (!@#$%^&*)\n",
    "\n",
    "The function should return a dictionary with:\n",
    "- \"valid\": True/False\n",
    "- \"messages\": List of specific requirements that failed\n",
    "\n",
    "Test with passwords: \"Password123!\", \"weak\", \"NoDigits!\""
   ]
  },
  {
   "cell_type": "code",
   "execution_count": 7,
   "id": "27ef3283",
   "metadata": {},
   "outputs": [
    {
     "name": "stdout",
     "output_type": "stream",
     "text": [
      "{'valid': True, 'messages': []}\n",
      "{'valid': False, 'messages': ['Password must be at least 8 characters long.', 'Password must contain at least one uppercase letter.', 'Password must contain at least one digit.', 'Password must contain at least one special character (!@#$%^&*).']}\n",
      "{'valid': False, 'messages': ['Password must contain at least one digit.']}\n"
     ]
    }
   ],
   "source": [
    "def validate_password(password):\n",
    "    messages = []\n",
    "    special_chars = \"!@#$%^&*\"\n",
    "\n",
    "    if len(password) < 8:\n",
    "        messages.append(\"Password must be at least 8 characters long.\")\n",
    "    if not any(c.isupper() for c in password):\n",
    "        messages.append(\"Password must contain at least one uppercase letter.\")\n",
    "    if not any(c.islower() for c in password):\n",
    "        messages.append(\"Password must contain at least one lowercase letter.\")\n",
    "    if not any(c.isdigit() for c in password):\n",
    "        messages.append(\"Password must contain at least one digit.\")\n",
    "    if not any(c in special_chars for c in password):\n",
    "        messages.append(\"Password must contain at least one special character (!@#$%^&*).\")\n",
    "\n",
    "    return {\n",
    "        \"valid\": len(messages) == 0,\n",
    "        \"messages\": messages\n",
    "    }\n",
    "\n",
    "# Testing the function\n",
    "print(validate_password(\"Password123!\"))\n",
    "print(validate_password(\"weak\"))\n",
    "print(validate_password(\"NoDigits!\"))\n"
   ]
  }
 ],
 "metadata": {
  "kernelspec": {
   "display_name": "Python 3",
   "language": "python",
   "name": "python3"
  },
  "language_info": {
   "codemirror_mode": {
    "name": "ipython",
    "version": 3
   },
   "file_extension": ".py",
   "mimetype": "text/x-python",
   "name": "python",
   "nbconvert_exporter": "python",
   "pygments_lexer": "ipython3",
   "version": "3.11.6"
  }
 },
 "nbformat": 4,
 "nbformat_minor": 5
}
